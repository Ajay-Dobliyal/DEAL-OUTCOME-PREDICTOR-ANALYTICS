{
 "cells": [
  {
   "cell_type": "code",
   "execution_count": 1,
   "id": "582973dc",
   "metadata": {},
   "outputs": [],
   "source": [
    "import numpy as np\n",
    "import pandas as pd\n",
    "import matplotlib.pyplot as plt\n",
    "import seaborn as sns\n",
    "import sklearn\n",
    "import os\n",
    "import warnings\n",
    "warnings.filterwarnings('ignore')\n",
    "import tensorflow as tf\n",
    "from tensorflow import keras\n",
    "import lux"
   ]
  },
  {
   "cell_type": "code",
   "execution_count": 2,
   "id": "dfb67c61",
   "metadata": {},
   "outputs": [],
   "source": [
    "mydata = pd.read_excel('Win_Prediction_Data.Xlsx')"
   ]
  },
  {
   "cell_type": "code",
   "execution_count": 3,
   "id": "3ba8661e",
   "metadata": {
    "scrolled": true
   },
   "outputs": [
    {
     "data": {
      "application/vnd.jupyter.widget-view+json": {
       "model_id": "8e69df928a8540728a64727e5f83d1f6",
       "version_major": 2,
       "version_minor": 0
      },
      "text/plain": [
       "Button(description='Toggle Pandas/Lux', layout=Layout(top='5px', width='140px'), style=ButtonStyle())"
      ]
     },
     "metadata": {},
     "output_type": "display_data"
    },
    {
     "data": {
      "application/vnd.jupyter.widget-view+json": {
       "model_id": "f7e391b3fad54f008a9a079ebfd001e5",
       "version_major": 2,
       "version_minor": 0
      },
      "text/plain": [
       "Output()"
      ]
     },
     "metadata": {},
     "output_type": "display_data"
    }
   ],
   "source": [
    "mydata"
   ]
  },
  {
   "cell_type": "code",
   "execution_count": 4,
   "id": "6da398fa",
   "metadata": {
    "scrolled": true
   },
   "outputs": [
    {
     "data": {
      "application/vnd.jupyter.widget-view+json": {
       "model_id": "5f64fe0e3c8947eb9e758da444c6f13a",
       "version_major": 2,
       "version_minor": 0
      },
      "text/plain": [
       "Button(description='Toggle Pandas/Lux', layout=Layout(top='5px', width='140px'), style=ButtonStyle())"
      ]
     },
     "metadata": {},
     "output_type": "display_data"
    },
    {
     "data": {
      "application/vnd.jupyter.widget-view+json": {
       "model_id": "10493f202bfe4a4289b2513bc5453533",
       "version_major": 2,
       "version_minor": 0
      },
      "text/plain": [
       "Output()"
      ]
     },
     "metadata": {},
     "output_type": "display_data"
    }
   ],
   "source": [
    "newdata = mydata.copy()\n",
    "newdata.head(10)"
   ]
  },
  {
   "cell_type": "markdown",
   "id": "0b2f062d",
   "metadata": {},
   "source": [
    "# Preprocessing"
   ]
  },
  {
   "cell_type": "code",
   "execution_count": 5,
   "id": "db8cdd87",
   "metadata": {},
   "outputs": [
    {
     "data": {
      "application/vnd.jupyter.widget-view+json": {
       "model_id": "ecca1096e73f46a49b8941dbadf03ae7",
       "version_major": 2,
       "version_minor": 0
      },
      "text/plain": [
       "Button(description='Toggle Pandas/Lux', layout=Layout(top='5px', width='140px'), style=ButtonStyle())"
      ]
     },
     "metadata": {},
     "output_type": "display_data"
    },
    {
     "data": {
      "application/vnd.jupyter.widget-view+json": {
       "model_id": "2ae3847365f6453a9c5e02bd6bacf7a2",
       "version_major": 2,
       "version_minor": 0
      },
      "text/plain": [
       "Output()"
      ]
     },
     "metadata": {},
     "output_type": "display_data"
    }
   ],
   "source": [
    "newdata.isnull().sum()"
   ]
  },
  {
   "cell_type": "code",
   "execution_count": 6,
   "id": "b62dd599",
   "metadata": {
    "scrolled": true
   },
   "outputs": [
    {
     "data": {
      "application/vnd.jupyter.widget-view+json": {
       "model_id": "9acbf4f49b0a46e6ac6b28901afb3ea6",
       "version_major": 2,
       "version_minor": 0
      },
      "text/plain": [
       "Button(description='Toggle Pandas/Lux', layout=Layout(top='5px', width='140px'), style=ButtonStyle())"
      ]
     },
     "metadata": {},
     "output_type": "display_data"
    },
    {
     "data": {
      "application/vnd.jupyter.widget-view+json": {
       "model_id": "b21c53b643d8461eb532b80be4becad9",
       "version_major": 2,
       "version_minor": 0
      },
      "text/plain": [
       "Output()"
      ]
     },
     "metadata": {},
     "output_type": "display_data"
    }
   ],
   "source": [
    "newdata.isnull().sum()/len(newdata)*100"
   ]
  },
  {
   "cell_type": "code",
   "execution_count": 7,
   "id": "5db1fa77",
   "metadata": {},
   "outputs": [
    {
     "data": {
      "text/plain": [
       "<function matplotlib.pyplot.show(close=None, block=None)>"
      ]
     },
     "execution_count": 7,
     "metadata": {},
     "output_type": "execute_result"
    },
    {
     "data": {
      "image/png": "[encoded data removed]",
      "text/plain": [
       "<Figure size 432x288 with 1 Axes>"
      ]
     },
     "metadata": {
      "needs_background": "light"
     },
     "output_type": "display_data"
    }
   ],
   "source": [
    "sns.heatmap(newdata.isnull(), yticklabels = False, cbar = False, cmap = 'rainbow')\n",
    "plt.show"
   ]
  },
  {
   "cell_type": "code",
   "execution_count": 8,
   "id": "6f686422",
   "metadata": {},
   "outputs": [
    {
     "name": "stdout",
     "output_type": "stream",
     "text": [
      "<class 'lux.core.frame.LuxDataFrame'>\n",
      "RangeIndex: 10061 entries, 0 to 10060\n",
      "Data columns (total 9 columns):\n",
      " #   Column            Non-Null Count  Dtype         \n",
      "---  ------            --------------  -----         \n",
      " 0   Client Category   9982 non-null   object        \n",
      " 1   Solution Type     10061 non-null  object        \n",
      " 2   Deal Date         10061 non-null  datetime64[ns]\n",
      " 3   Sector            10061 non-null  object        \n",
      " 4   Location          10061 non-null  object        \n",
      " 5   VP Name           10061 non-null  object        \n",
      " 6   Manager Name      10061 non-null  object        \n",
      " 7   Deal Cost         10061 non-null  float64       \n",
      " 8   Deal Status Code  10061 non-null  object        \n",
      "dtypes: datetime64[ns](1), float64(1), object(7)\n",
      "memory usage: 707.5+ KB\n"
     ]
    }
   ],
   "source": [
    "newdata.info()"
   ]
  },
  {
   "cell_type": "code",
   "execution_count": 9,
   "id": "f9c97cb5",
   "metadata": {},
   "outputs": [
    {
     "data": {
      "application/vnd.jupyter.widget-view+json": {
       "model_id": "27efd61d04b8453c8a91d0d9df4bc3f3",
       "version_major": 2,
       "version_minor": 0
      },
      "text/plain": [
       "Button(description='Toggle Pandas/Lux', layout=Layout(top='5px', width='140px'), style=ButtonStyle())"
      ]
     },
     "metadata": {},
     "output_type": "display_data"
    },
    {
     "data": {
      "application/vnd.jupyter.widget-view+json": {
       "model_id": "d68f29e8c77e446d9524a34c0c14c728",
       "version_major": 2,
       "version_minor": 0
      },
      "text/plain": [
       "Output()"
      ]
     },
     "metadata": {},
     "output_type": "display_data"
    }
   ],
   "source": [
    "#handling missing values\n",
    "newdata['Client Category'].value_counts()"
   ]
  },
  {
   "cell_type": "code",
   "execution_count": 10,
   "id": "e8665673",
   "metadata": {},
   "outputs": [],
   "source": [
    "newdata['Client Category'] = newdata['Client Category'].fillna('Others')"
   ]
  },
  {
   "cell_type": "code",
   "execution_count": 11,
   "id": "9ff0c8ec",
   "metadata": {},
   "outputs": [
    {
     "name": "stdout",
     "output_type": "stream",
     "text": [
      "<class 'lux.core.frame.LuxDataFrame'>\n",
      "RangeIndex: 10061 entries, 0 to 10060\n",
      "Data columns (total 9 columns):\n",
      " #   Column            Non-Null Count  Dtype         \n",
      "---  ------            --------------  -----         \n",
      " 0   Client Category   10061 non-null  object        \n",
      " 1   Solution Type     10061 non-null  object        \n",
      " 2   Deal Date         10061 non-null  datetime64[ns]\n",
      " 3   Sector            10061 non-null  object        \n",
      " 4   Location          10061 non-null  object        \n",
      " 5   VP Name           10061 non-null  object        \n",
      " 6   Manager Name      10061 non-null  object        \n",
      " 7   Deal Cost         10061 non-null  float64       \n",
      " 8   Deal Status Code  10061 non-null  object        \n",
      "dtypes: datetime64[ns](1), float64(1), object(7)\n",
      "memory usage: 707.5+ KB\n"
     ]
    }
   ],
   "source": [
    "newdata.info()"
   ]
  },
  {
   "cell_type": "code",
   "execution_count": 12,
   "id": "139fc15e",
   "metadata": {},
   "outputs": [
    {
     "data": {
      "application/vnd.jupyter.widget-view+json": {
       "model_id": "9cf10d7f46f94718bbbe1b6b46b115fb",
       "version_major": 2,
       "version_minor": 0
      },
      "text/plain": [
       "Button(description='Toggle Pandas/Lux', layout=Layout(top='5px', width='140px'), style=ButtonStyle())"
      ]
     },
     "metadata": {},
     "output_type": "display_data"
    },
    {
     "data": {
      "application/vnd.jupyter.widget-view+json": {
       "model_id": "1cf15ed4d90e4d0f855ee5efd8545d99",
       "version_major": 2,
       "version_minor": 0
      },
      "text/plain": [
       "Output()"
      ]
     },
     "metadata": {},
     "output_type": "display_data"
    }
   ],
   "source": [
    "#Describe the object data type\n",
    "newdata.describe(include = 'O')\n"
   ]
  },
  {
   "cell_type": "code",
   "execution_count": 13,
   "id": "4a3c408b",
   "metadata": {
    "scrolled": true
   },
   "outputs": [
    {
     "data": {
      "application/vnd.jupyter.widget-view+json": {
       "model_id": "2d844d4ee2314ddda3cbc2ae8feca439",
       "version_major": 2,
       "version_minor": 0
      },
      "text/plain": [
       "Button(description='Toggle Pandas/Lux', layout=Layout(top='5px', width='140px'), style=ButtonStyle())"
      ]
     },
     "metadata": {},
     "output_type": "display_data"
    },
    {
     "data": {
      "application/vnd.jupyter.widget-view+json": {
       "model_id": "ddc94be0d42d43c98d460ac3fa2fd3da",
       "version_major": 2,
       "version_minor": 0
      },
      "text/plain": [
       "Output()"
      ]
     },
     "metadata": {},
     "output_type": "display_data"
    }
   ],
   "source": [
    "newdata['Deal Status Code'].value_counts()"
   ]
  },
  {
   "cell_type": "code",
   "execution_count": 14,
   "id": "e510607f",
   "metadata": {},
   "outputs": [
    {
     "data": {
      "application/vnd.jupyter.widget-view+json": {
       "model_id": "da5c842b3f99422fb714efb94f56f666",
       "version_major": 2,
       "version_minor": 0
      },
      "text/plain": [
       "Button(description='Toggle Pandas/Lux', layout=Layout(top='5px', width='140px'), style=ButtonStyle())"
      ]
     },
     "metadata": {},
     "output_type": "display_data"
    },
    {
     "data": {
      "application/vnd.jupyter.widget-view+json": {
       "model_id": "82bd6f40b6f943298033f0e1f6d90fcc",
       "version_major": 2,
       "version_minor": 0
      },
      "text/plain": [
       "Output()"
      ]
     },
     "metadata": {},
     "output_type": "display_data"
    }
   ],
   "source": [
    "Client_Category = newdata['Client Category'].value_counts()\n",
    "Client_Category"
   ]
  },
  {
   "cell_type": "code",
   "execution_count": 15,
   "id": "836ee69a",
   "metadata": {},
   "outputs": [
    {
     "data": {
      "text/plain": [
       "Index(['Others', 'Internal', 'Services_based', 'Tech', 'Domestic Public Bank',\n",
       "       'International Bank', 'Consulting', 'Finance', 'Telecom', 'Power ind',\n",
       "       'Domestic Private Bank', 'Insurance', 'Consumer Good', 'Automobiles',\n",
       "       'Infrastructure', 'Domestic Bank', 'Retail_market', 'Govt',\n",
       "       'Hospitality', 'Manufacturing', 'Pharma', 'Healthcare', 'Electronics',\n",
       "       'Media_Journal', 'Industries', 'Research Development', 'Energy',\n",
       "       'Knowledge', 'Management', 'Govt Bank Special', 'Payment', 'Energy ',\n",
       "       'e-commerce', 'Airpline', 'Holding', 'International Org', 'Logistics',\n",
       "       'Real Estate', 'Share_market', 'Tax_audit', 'Medical '],\n",
       "      dtype='object')"
      ]
     },
     "execution_count": 15,
     "metadata": {},
     "output_type": "execute_result"
    }
   ],
   "source": [
    "Client_Category_index = newdata['Client Category'].value_counts().index\n",
    "Client_Category_index"
   ]
  },
  {
   "cell_type": "code",
   "execution_count": 16,
   "id": "722e95c2",
   "metadata": {},
   "outputs": [
    {
     "data": {
      "image/png": "[encoded data removed]",
      "text/plain": [
       "<Figure size 432x288 with 1 Axes>"
      ]
     },
     "metadata": {},
     "output_type": "display_data"
    }
   ],
   "source": [
    "plt.pie(Client_Category[:5], labels = Client_Category_index[:5], autopct = '%1.2f%%')\n",
    "plt.show()"
   ]
  },
  {
   "cell_type": "code",
   "execution_count": 17,
   "id": "08807fb3",
   "metadata": {},
   "outputs": [
    {
     "data": {
      "text/plain": [
       "<AxesSubplot:>"
      ]
     },
     "execution_count": 17,
     "metadata": {},
     "output_type": "execute_result"
    },
    {
     "data": {
      "image/png": "[encoded data removed]",
      "text/plain": [
       "<Figure size 432x288 with 1 Axes>"
      ]
     },
     "metadata": {
      "needs_background": "light"
     },
     "output_type": "display_data"
    }
   ],
   "source": [
    "Client_Category[:10].plot(kind='barh')"
   ]
  },
  {
   "cell_type": "code",
   "execution_count": 18,
   "id": "7399fe41",
   "metadata": {},
   "outputs": [
    {
     "data": {
      "application/vnd.jupyter.widget-view+json": {
       "model_id": "ce500ad1d27d47ff903e7c232acda3ae",
       "version_major": 2,
       "version_minor": 0
      },
      "text/plain": [
       "Button(description='Toggle Pandas/Lux', layout=Layout(top='5px', width='140px'), style=ButtonStyle())"
      ]
     },
     "metadata": {},
     "output_type": "display_data"
    },
    {
     "data": {
      "application/vnd.jupyter.widget-view+json": {
       "model_id": "697cf7a94f6f47ebb88b4aa9c5bc68d4",
       "version_major": 2,
       "version_minor": 0
      },
      "text/plain": [
       "Output()"
      ]
     },
     "metadata": {},
     "output_type": "display_data"
    }
   ],
   "source": [
    "VP_Name = newdata['VP Name'].value_counts()\n",
    "VP_Name"
   ]
  },
  {
   "cell_type": "code",
   "execution_count": 19,
   "id": "c94303b3",
   "metadata": {},
   "outputs": [
    {
     "data": {
      "text/plain": [
       "Index(['Mervin Harwood', 'Ankita Aggarwal', 'Sargar Deep Rao',\n",
       "       'Long Bergstrom', 'Mangesh K. Singh', 'Rosanna Maynez', 'Ekta Zutshi',\n",
       "       'Rahul Bajpai', 'neeraj kumar', 'Son Mcconnaughy', 'som dutt',\n",
       "       'Hardeep Suksma', 'Brendon Wycoff', 'Clinton Mani', 'Saurabh Singh',\n",
       "       'Jewell Tunstall', 'Rudraksh Sharma', 'Gopa Trilochana',\n",
       "       'Russell Dahlen', 'Molly Eakes', 'Alam Syed', 'Gaurav Sameria',\n",
       "       'Gayle Molter', 'Varsha Arora', 'Vidur Hukle', 'Earline Langton',\n",
       "       'Manpreet Singh', 'Mayank Mewar', 'Marcella Mo', 'Rahul Kocher',\n",
       "       'Man Suddeth', 'Jitendra Choudhary', 'Prashant Rawat', 'Lilli Storrs',\n",
       "       'Vikram Rawat', 'Kamelesh Srinivasan', 'Dennis Faux', 'Waylon Mulder',\n",
       "       'Visvajeet Das', 'Sarthak Batra', 'md. afsar', 'P. Somya',\n",
       "       'Kirk Hofmeister'],\n",
       "      dtype='object')"
      ]
     },
     "execution_count": 19,
     "metadata": {},
     "output_type": "execute_result"
    }
   ],
   "source": [
    "VP_Name_index = newdata['VP Name'].value_counts().index\n",
    "VP_Name_index"
   ]
  },
  {
   "cell_type": "code",
   "execution_count": 20,
   "id": "fdbeea2f",
   "metadata": {},
   "outputs": [
    {
     "data": {
      "image/png": "[encoded data removed]",
      "text/plain": [
       "<Figure size 432x288 with 1 Axes>"
      ]
     },
     "metadata": {},
     "output_type": "display_data"
    }
   ],
   "source": [
    "plt.pie(VP_Name[:5], labels = VP_Name_index[:5], autopct = '%1.2f%%')\n",
    "plt.show()"
   ]
  },
  {
   "cell_type": "code",
   "execution_count": 21,
   "id": "96a4d6bb",
   "metadata": {},
   "outputs": [
    {
     "data": {
      "text/plain": [
       "<AxesSubplot:>"
      ]
     },
     "execution_count": 21,
     "metadata": {},
     "output_type": "execute_result"
    },
    {
     "data": {
      "image/png": "[encoded data removed]",
      "text/plain": [
       "<Figure size 432x288 with 1 Axes>"
      ]
     },
     "metadata": {
      "needs_background": "light"
     },
     "output_type": "display_data"
    }
   ],
   "source": [
    "VP_Name[:10].plot(kind = 'barh')"
   ]
  },
  {
   "cell_type": "code",
   "execution_count": 22,
   "id": "10f550f1",
   "metadata": {},
   "outputs": [
    {
     "data": {
      "application/vnd.jupyter.widget-view+json": {
       "model_id": "01515118e3da4036830d6ab4e782e247",
       "version_major": 2,
       "version_minor": 0
      },
      "text/plain": [
       "Button(description='Toggle Pandas/Lux', layout=Layout(top='5px', width='140px'), style=ButtonStyle())"
      ]
     },
     "metadata": {},
     "output_type": "display_data"
    },
    {
     "data": {
      "application/vnd.jupyter.widget-view+json": {
       "model_id": "c1aa0fe883d04578986dbacc078e2146",
       "version_major": 2,
       "version_minor": 0
      },
      "text/plain": [
       "Output()"
      ]
     },
     "metadata": {},
     "output_type": "display_data"
    }
   ],
   "source": [
    "Manager_Name = newdata['Manager Name'].value_counts()\n",
    "Manager_Name"
   ]
  },
  {
   "cell_type": "code",
   "execution_count": 23,
   "id": "131f3f85",
   "metadata": {},
   "outputs": [
    {
     "data": {
      "text/plain": [
       "Index(['Molly Eakes', 'Rudraksh Sharma', 'Desmond Krout', 'Gayle Molter',\n",
       "       'Manpreet Singh', 'Rosana Yokum', 'Rayford Durgan', 'Manish Saundriyal',\n",
       "       'Jewell Tunstall', 'Hardeep Suksma',\n",
       "       ...\n",
       "       'Sultan Khan', 'Heath Mullarkey', 'Natalia Dumlao', 'Anju Nanda',\n",
       "       'Uzaar Ali', 'Sumit Arora', 'Ali Rafiq', 'Arti Bindra', 'Ike Deppen',\n",
       "       'Lokesh Pinani'],\n",
       "      dtype='object', length=278)"
      ]
     },
     "execution_count": 23,
     "metadata": {},
     "output_type": "execute_result"
    }
   ],
   "source": [
    "Manager_Name_index = newdata['Manager Name'].value_counts().index\n",
    "Manager_Name_index"
   ]
  },
  {
   "cell_type": "code",
   "execution_count": 24,
   "id": "e29013aa",
   "metadata": {},
   "outputs": [
    {
     "data": {
      "image/png": "[encoded data removed]",
      "text/plain": [
       "<Figure size 432x288 with 1 Axes>"
      ]
     },
     "metadata": {},
     "output_type": "display_data"
    }
   ],
   "source": [
    "plt.pie(Manager_Name[:5], labels = Manager_Name_index[:5], autopct = '%1.2f%%')\n",
    "plt.show()"
   ]
  },
  {
   "cell_type": "code",
   "execution_count": 25,
   "id": "437e65d7",
   "metadata": {},
   "outputs": [
    {
     "data": {
      "text/plain": [
       "<AxesSubplot:>"
      ]
     },
     "execution_count": 25,
     "metadata": {},
     "output_type": "execute_result"
    },
    {
     "data": {
      "image/png": "[encoded data removed]",
      "text/plain": [
       "<Figure size 432x288 with 1 Axes>"
      ]
     },
     "metadata": {
      "needs_background": "light"
     },
     "output_type": "display_data"
    }
   ],
   "source": [
    "Manager_Name[:10].plot(kind = 'barh')"
   ]
  },
  {
   "cell_type": "code",
   "execution_count": 26,
   "id": "fc8c82bb",
   "metadata": {},
   "outputs": [
    {
     "data": {
      "application/vnd.jupyter.widget-view+json": {
       "model_id": "8a251e3445d4471a9aea688b371d6093",
       "version_major": 2,
       "version_minor": 0
      },
      "text/plain": [
       "Button(description='Toggle Pandas/Lux', layout=Layout(top='5px', width='140px'), style=ButtonStyle())"
      ]
     },
     "metadata": {},
     "output_type": "display_data"
    },
    {
     "data": {
      "application/vnd.jupyter.widget-view+json": {
       "model_id": "d916b7574b3849a0b0f34fc519dc6cf0",
       "version_major": 2,
       "version_minor": 0
      },
      "text/plain": [
       "Output()"
      ]
     },
     "metadata": {},
     "output_type": "display_data"
    }
   ],
   "source": [
    "newdata.head(10)"
   ]
  },
  {
   "cell_type": "code",
   "execution_count": 27,
   "id": "29f0a1fc",
   "metadata": {},
   "outputs": [
    {
     "data": {
      "text/plain": [
       "Index(['Client Category', 'Solution Type', 'Deal Date', 'Sector', 'Location',\n",
       "       'VP Name', 'Manager Name', 'Deal Cost', 'Deal Status Code'],\n",
       "      dtype='object')"
      ]
     },
     "execution_count": 27,
     "metadata": {},
     "output_type": "execute_result"
    }
   ],
   "source": [
    "newdata.columns"
   ]
  },
  {
   "cell_type": "code",
   "execution_count": 28,
   "id": "ba434f1c",
   "metadata": {},
   "outputs": [
    {
     "data": {
      "application/vnd.jupyter.widget-view+json": {
       "model_id": "58064f8ff5f745d09cfc14656998cda8",
       "version_major": 2,
       "version_minor": 0
      },
      "text/plain": [
       "Button(description='Toggle Pandas/Lux', layout=Layout(top='5px', width='140px'), style=ButtonStyle())"
      ]
     },
     "metadata": {},
     "output_type": "display_data"
    },
    {
     "data": {
      "application/vnd.jupyter.widget-view+json": {
       "model_id": "dde3479a69eb4e92aa3e0eefcde55e97",
       "version_major": 2,
       "version_minor": 0
      },
      "text/plain": [
       "Output()"
      ]
     },
     "metadata": {},
     "output_type": "display_data"
    }
   ],
   "source": [
    "rel_client_cat = newdata[['Client Category',\n",
    "                          'Deal Status Code']].groupby(['Client Category', \n",
    "                                                        'Deal Status Code']).size().reset_index().rename(columns = {0: 'Total count'})\n",
    "rel_client_cat"
   ]
  },
  {
   "cell_type": "code",
   "execution_count": 29,
   "id": "3fef672a",
   "metadata": {},
   "outputs": [
    {
     "data": {
      "application/vnd.jupyter.widget-view+json": {
       "model_id": "018da8f7acce40f3ba0ca0e16fe6bff0",
       "version_major": 2,
       "version_minor": 0
      },
      "text/plain": [
       "Button(description='Toggle Pandas/Lux', layout=Layout(top='5px', width='140px'), style=ButtonStyle())"
      ]
     },
     "metadata": {},
     "output_type": "display_data"
    },
    {
     "data": {
      "application/vnd.jupyter.widget-view+json": {
       "model_id": "9e8176a3c8b448f0a539e7831698e827",
       "version_major": 2,
       "version_minor": 0
      },
      "text/plain": [
       "Output()"
      ]
     },
     "metadata": {},
     "output_type": "display_data"
    }
   ],
   "source": [
    "Solution_Type_cat = newdata[['Solution Type',\n",
    "                          'Deal Status Code']].groupby(['Solution Type', \n",
    "                                                        'Deal Status Code']).size().reset_index().rename(columns = {0: 'Total count'})\n",
    "Solution_Type_cat"
   ]
  },
  {
   "cell_type": "code",
   "execution_count": 30,
   "id": "1419c7c8",
   "metadata": {},
   "outputs": [
    {
     "data": {
      "application/vnd.jupyter.widget-view+json": {
       "model_id": "dfc81b85114f4b5b86fc10c3b86afa11",
       "version_major": 2,
       "version_minor": 0
      },
      "text/plain": [
       "Button(description='Toggle Pandas/Lux', layout=Layout(top='5px', width='140px'), style=ButtonStyle())"
      ]
     },
     "metadata": {},
     "output_type": "display_data"
    },
    {
     "data": {
      "application/vnd.jupyter.widget-view+json": {
       "model_id": "b44d0e51e4ac41699f8993fa1e30cadf",
       "version_major": 2,
       "version_minor": 0
      },
      "text/plain": [
       "Output()"
      ]
     },
     "metadata": {},
     "output_type": "display_data"
    }
   ],
   "source": [
    "VP_Name_cat = newdata[['VP Name',\n",
    "                          'Deal Status Code']].groupby(['VP Name', \n",
    "                                                        'Deal Status Code']).size().reset_index().rename(columns = {0: 'Total count'})\n",
    "VP_Name_cat"
   ]
  },
  {
   "cell_type": "code",
   "execution_count": 31,
   "id": "a812a3a0",
   "metadata": {},
   "outputs": [
    {
     "data": {
      "application/vnd.jupyter.widget-view+json": {
       "model_id": "622aef8350524fca8b0050aa885c9faa",
       "version_major": 2,
       "version_minor": 0
      },
      "text/plain": [
       "Button(description='Toggle Pandas/Lux', layout=Layout(top='5px', width='140px'), style=ButtonStyle())"
      ]
     },
     "metadata": {},
     "output_type": "display_data"
    },
    {
     "data": {
      "application/vnd.jupyter.widget-view+json": {
       "model_id": "dd5587bd896948dd9a2fc0963204a4f3",
       "version_major": 2,
       "version_minor": 0
      },
      "text/plain": [
       "Output()"
      ]
     },
     "metadata": {},
     "output_type": "display_data"
    }
   ],
   "source": [
    "Manager_Name_cat = newdata[['Manager Name',\n",
    "                          'Deal Status Code']].groupby(['Manager Name', \n",
    "                                                        'Deal Status Code']).size().reset_index().rename(columns = {0: 'Total count'})\n",
    "Manager_Name_cat"
   ]
  },
  {
   "cell_type": "code",
   "execution_count": 32,
   "id": "8126d9d8",
   "metadata": {},
   "outputs": [
    {
     "name": "stdout",
     "output_type": "stream",
     "text": [
      "Manager Name      Aastha Gandhi  Abhinav Warrier  Abhishek Singhal  \\\n",
      "Deal Status Code                                                     \n",
      "Lost                        NaN    588808.824000     772860.963182   \n",
      "Won                   242647.06    302235.296667     476956.522609   \n",
      "\n",
      "Manager Name      Abhiskek Kumar   Abhiskhek  D    Abram Fines  Aditya Kumar  \\\n",
      "Deal Status Code                                                               \n",
      "Lost               949894.957857  440767.973889  501764.706000     792647.06   \n",
      "Won                587507.740789  375658.823600  714127.789655     250367.65   \n",
      "\n",
      "Manager Name      Aditya Tondon   Ahdarsha Jha  Ahswini Saini  ...  \\\n",
      "Deal Status Code                                               ...   \n",
      "Lost                 1058823.53  924866.311818     1029411.77  ...   \n",
      "Won                         NaN  351102.940000      601470.59  ...   \n",
      "\n",
      "Manager Name          shafibul  sharat chandran   sheak shakir  shiv kumar  \\\n",
      "Deal Status Code                                                             \n",
      "Lost              2.867647e+06       441176.470  882352.940000   219019.61   \n",
      "Won                        NaN       989411.765  461127.451667         NaN   \n",
      "\n",
      "Manager Name      shiv shakti singh    shyam kumar   som dutt  sunder paal  \\\n",
      "Deal Status Code                                                             \n",
      "Lost                     1470588.24  715250.000000        NaN   882352.940   \n",
      "Won                             NaN  307769.608333  198627.45   371960.785   \n",
      "\n",
      "Manager Name         vansu dev  vinit katariya  \n",
      "Deal Status Code                                \n",
      "Lost              9.687406e+05    1.098739e+06  \n",
      "Won               1.253295e+06    3.917206e+06  \n",
      "\n",
      "[2 rows x 278 columns]\n"
     ]
    }
   ],
   "source": [
    "print(pd.pivot_table(newdata, index = 'Deal Status Code', columns = 'Manager Name', values = 'Deal Cost'))"
   ]
  },
  {
   "cell_type": "code",
   "execution_count": 33,
   "id": "47dc225d",
   "metadata": {},
   "outputs": [
    {
     "name": "stdout",
     "output_type": "stream",
     "text": [
      "VP Name              Alam Syed  Ankita Aggarwal  Brendon Wycoff  \\\n",
      "Deal Status Code                                                  \n",
      "Lost              1.087144e+06     654206.63000    1.096894e+06   \n",
      "Won               1.172937e+06     503528.35065    1.909288e+06   \n",
      "\n",
      "VP Name            Clinton Mani    Dennis Faux  Earline Langton   Ekta Zutshi  \\\n",
      "Deal Status Code                                                                \n",
      "Lost              776755.218548  554656.861667     1.189219e+06  7.912821e+05   \n",
      "Won               600857.843500  315294.120000     6.034314e+05  1.021396e+06   \n",
      "\n",
      "VP Name           Gaurav Sameria  Gayle Molter  Gopa Trilochana  ...  \\\n",
      "Deal Status Code                                                 ...   \n",
      "Lost               554590.017879  7.291971e+05     1.464321e+06  ...   \n",
      "Won                586433.823958  1.282863e+06     8.195701e+05  ...   \n",
      "\n",
      "VP Name           Saurabh Singh  Son Mcconnaughy  Varsha Arora    Vidur Hukle  \\\n",
      "Deal Status Code                                                                \n",
      "Lost              761066.176429     1.517227e+06  7.272255e+05  615517.241724   \n",
      "Won               962863.052187     5.470632e+05  3.454505e+06  540581.233095   \n",
      "\n",
      "VP Name           Vikram Rawat  Visvajeet Das  Waylon Mulder   md. afsar  \\\n",
      "Deal Status Code                                                           \n",
      "Lost              1.681103e+06     1176470.59      235294.12  3235294.12   \n",
      "Won               5.161111e+05     5588235.29       88235.29         NaN   \n",
      "\n",
      "VP Name            neeraj kumar       som dutt  \n",
      "Deal Status Code                                \n",
      "Lost              478943.956142  554650.469710  \n",
      "Won               693700.190092  562977.044756  \n",
      "\n",
      "[2 rows x 43 columns]\n"
     ]
    }
   ],
   "source": [
    "print(pd.pivot_table(newdata, index = 'Deal Status Code', columns = 'VP Name', values = 'Deal Cost'))"
   ]
  },
  {
   "cell_type": "code",
   "execution_count": 34,
   "id": "c809e368",
   "metadata": {},
   "outputs": [],
   "source": [
    "import datetime \n",
    "newdata['Deal year'] = newdata['Deal Date'].dt.year"
   ]
  },
  {
   "cell_type": "code",
   "execution_count": 35,
   "id": "6537f12a",
   "metadata": {},
   "outputs": [
    {
     "data": {
      "application/vnd.jupyter.widget-view+json": {
       "model_id": "72379c74a0eb473e968db78742caeaab",
       "version_major": 2,
       "version_minor": 0
      },
      "text/plain": [
       "Button(description='Toggle Pandas/Lux', layout=Layout(top='5px', width='140px'), style=ButtonStyle())"
      ]
     },
     "metadata": {},
     "output_type": "display_data"
    },
    {
     "data": {
      "application/vnd.jupyter.widget-view+json": {
       "model_id": "4afb259c86e942788b4131d7eaef0ee3",
       "version_major": 2,
       "version_minor": 0
      },
      "text/plain": [
       "Output()"
      ]
     },
     "metadata": {},
     "output_type": "display_data"
    }
   ],
   "source": [
    "newdata.head()"
   ]
  },
  {
   "cell_type": "code",
   "execution_count": 36,
   "id": "e3b35da6",
   "metadata": {},
   "outputs": [
    {
     "data": {
      "image/png": "[encoded data removed]",
      "text/plain": [
       "<Figure size 432x288 with 1 Axes>"
      ]
     },
     "metadata": {
      "needs_background": "light"
     },
     "output_type": "display_data"
    }
   ],
   "source": [
    "sns.histplot(newdata['Deal year'], bins = 8)\n",
    "plt.show()"
   ]
  },
  {
   "cell_type": "code",
   "execution_count": 37,
   "id": "7083d8fd",
   "metadata": {},
   "outputs": [],
   "source": [
    "newdata['Deal_Month'] = newdata['Deal Date'].dt.month"
   ]
  },
  {
   "cell_type": "code",
   "execution_count": 38,
   "id": "cd1021e6",
   "metadata": {},
   "outputs": [
    {
     "data": {
      "image/png": "[encoded data removed]",
      "text/plain": [
       "<Figure size 432x288 with 1 Axes>"
      ]
     },
     "metadata": {
      "needs_background": "light"
     },
     "output_type": "display_data"
    }
   ],
   "source": [
    "sns.histplot(newdata['Deal_Month'], bins = 12)\n",
    "plt.show()"
   ]
  },
  {
   "cell_type": "code",
   "execution_count": 39,
   "id": "8914ce57",
   "metadata": {},
   "outputs": [],
   "source": [
    "newdata['Deal_Date_quarter'] = newdata['Deal Date'].dt.quarter"
   ]
  },
  {
   "cell_type": "code",
   "execution_count": 40,
   "id": "9b69950e",
   "metadata": {},
   "outputs": [
    {
     "data": {
      "image/png": "[encoded data removed]",
      "text/plain": [
       "<Figure size 432x288 with 1 Axes>"
      ]
     },
     "metadata": {
      "needs_background": "light"
     },
     "output_type": "display_data"
    }
   ],
   "source": [
    "sns.histplot(newdata['Deal_Date_quarter'], bins = 4)\n",
    "plt.show()"
   ]
  },
  {
   "cell_type": "code",
   "execution_count": 41,
   "id": "717af2cb",
   "metadata": {},
   "outputs": [
    {
     "data": {
      "text/plain": [
       "<AxesSubplot:>"
      ]
     },
     "execution_count": 41,
     "metadata": {},
     "output_type": "execute_result"
    },
    {
     "data": {
      "image/png": "[encoded data removed]",
      "text/plain": [
       "<Figure size 432x288 with 2 Axes>"
      ]
     },
     "metadata": {
      "needs_background": "light"
     },
     "output_type": "display_data"
    }
   ],
   "source": [
    "sns.heatmap(newdata.corr(), annot = True, cmap='rainbow')"
   ]
  },
  {
   "cell_type": "code",
   "execution_count": 42,
   "id": "8a1d8a4c",
   "metadata": {},
   "outputs": [
    {
     "data": {
      "text/plain": [
       "Index(['Client Category', 'Solution Type', 'Deal Date', 'Sector', 'Location',\n",
       "       'VP Name', 'Manager Name', 'Deal Cost', 'Deal Status Code', 'Deal year',\n",
       "       'Deal_Month', 'Deal_Date_quarter'],\n",
       "      dtype='object')"
      ]
     },
     "execution_count": 42,
     "metadata": {},
     "output_type": "execute_result"
    }
   ],
   "source": [
    "newdata.columns"
   ]
  },
  {
   "cell_type": "code",
   "execution_count": 45,
   "id": "20b6b498",
   "metadata": {},
   "outputs": [],
   "source": [
    "#split the data into trainig and test for Top 5 VP and Manager combination before doing feature encoding and feature sacling as\n",
    "# the original names will be lost after doing that.\n",
    "\n",
    "X = newdata.drop(['Deal Status Code'], axis=1)\n",
    "Y = newdata['Deal Status Code']\n",
    "from sklearn.model_selection import train_test_split\n",
    "x_train_unscaled, x_test_unscaled, y_train_unscaled, y_test_unscaled = train_test_split(X, Y, train_size = 0.70, random_state = 101)"
   ]
  },
  {
   "cell_type": "code",
   "execution_count": 46,
   "id": "6dcedc04",
   "metadata": {},
   "outputs": [],
   "source": [
    "#Feature encoding\n",
    "\n",
    "newdata['Client Category'] = newdata['Client Category'].astype('category')\n",
    "newdata['Client Category'] = newdata['Client Category'].cat.codes\n",
    "\n",
    "newdata['Solution Type'] = newdata['Solution Type'].astype('category')\n",
    "newdata['Solution Type'] = newdata['Solution Type'].cat.codes\n",
    "\n",
    "newdata['VP Name'] = newdata['VP Name'].astype('category')\n",
    "newdata['VP Name'] = newdata['VP Name'].cat.codes\n",
    "\n",
    "newdata['Manager Name'] = newdata['Manager Name'].astype('category')\n",
    "newdata['Manager Name'] = newdata['Manager Name'].cat.codes\n",
    "\n",
    "newdata['Deal Status Code'] = newdata['Deal Status Code'].astype('category')\n",
    "newdata['Deal Status Code'] = newdata['Deal Status Code'].cat.codes"
   ]
  },
  {
   "cell_type": "code",
   "execution_count": 47,
   "id": "38ac01ee",
   "metadata": {},
   "outputs": [
    {
     "data": {
      "application/vnd.jupyter.widget-view+json": {
       "model_id": "4ab1f24e89034927ba44f4ba058d2082",
       "version_major": 2,
       "version_minor": 0
      },
      "text/plain": [
       "Button(description='Toggle Pandas/Lux', layout=Layout(top='5px', width='140px'), style=ButtonStyle())"
      ]
     },
     "metadata": {},
     "output_type": "display_data"
    },
    {
     "data": {
      "application/vnd.jupyter.widget-view+json": {
       "model_id": "564d3805bb0141c092f99be990f47a3d",
       "version_major": 2,
       "version_minor": 0
      },
      "text/plain": [
       "Output()"
      ]
     },
     "metadata": {},
     "output_type": "display_data"
    }
   ],
   "source": [
    "newdata"
   ]
  },
  {
   "cell_type": "code",
   "execution_count": 48,
   "id": "6c2dcc11",
   "metadata": {},
   "outputs": [],
   "source": [
    "newdata.drop(['Deal year', 'Deal_Month', 'Deal_Date_quarter', 'Sector', 'Location', 'Deal Date'], axis=1, inplace =True)"
   ]
  },
  {
   "cell_type": "code",
   "execution_count": 49,
   "id": "d7cb5cf2",
   "metadata": {},
   "outputs": [
    {
     "data": {
      "application/vnd.jupyter.widget-view+json": {
       "model_id": "b03c3a101b934b4aada6026c2191c660",
       "version_major": 2,
       "version_minor": 0
      },
      "text/plain": [
       "Button(description='Toggle Pandas/Lux', layout=Layout(top='5px', width='140px'), style=ButtonStyle())"
      ]
     },
     "metadata": {},
     "output_type": "display_data"
    },
    {
     "data": {
      "application/vnd.jupyter.widget-view+json": {
       "model_id": "ef524dcb214a4829ae2d1c128da44fd0",
       "version_major": 2,
       "version_minor": 0
      },
      "text/plain": [
       "Output()"
      ]
     },
     "metadata": {},
     "output_type": "display_data"
    }
   ],
   "source": [
    "newdata"
   ]
  },
  {
   "cell_type": "code",
   "execution_count": 50,
   "id": "8c3c4a4f",
   "metadata": {},
   "outputs": [],
   "source": [
    "# Train - Test Split\n",
    "\n",
    "X = newdata.drop(['Deal Status Code'], axis=1)\n",
    "Y = newdata['Deal Status Code']"
   ]
  },
  {
   "cell_type": "code",
   "execution_count": 51,
   "id": "ab8634db",
   "metadata": {},
   "outputs": [],
   "source": [
    "# Feature scaling\n",
    "\n",
    "from sklearn.preprocessing import StandardScaler\n",
    "sc = StandardScaler()\n",
    "X_scaled = sc.fit_transform(X)"
   ]
  },
  {
   "cell_type": "code",
   "execution_count": 52,
   "id": "91f70821",
   "metadata": {},
   "outputs": [],
   "source": [
    "#split the data into trainig and text\n",
    "from sklearn.model_selection import train_test_split\n",
    "x_train, x_test, y_train, y_test = train_test_split(X_scaled, Y, train_size = 0.70, random_state = 101)"
   ]
  },
  {
   "cell_type": "markdown",
   "id": "2aec6149",
   "metadata": {},
   "source": [
    "## Random Forest"
   ]
  },
  {
   "cell_type": "code",
   "execution_count": 53,
   "id": "5a33336e",
   "metadata": {},
   "outputs": [
    {
     "data": {
      "text/html": [
       "<style>#sk-container-id-1 {color: black;background-color: white;}#sk-container-id-1 pre{padding: 0;}#sk-container-id-1 div.sk-toggleable {background-color: white;}#sk-container-id-1 label.sk-toggleable__label {cursor: pointer;display: block;width: 100%;margin-bottom: 0;padding: 0.3em;box-sizing: border-box;text-align: center;}#sk-container-id-1 label.sk-toggleable__label-arrow:before {content: \"▸\";float: left;margin-right: 0.25em;color: #696969;}#sk-container-id-1 label.sk-toggleable__label-arrow:hover:before {color: black;}#sk-container-id-1 div.sk-estimator:hover label.sk-toggleable__label-arrow:before {color: black;}#sk-container-id-1 div.sk-toggleable__content {max-height: 0;max-width: 0;overflow: hidden;text-align: left;background-color: #f0f8ff;}#sk-container-id-1 div.sk-toggleable__content pre {margin: 0.2em;color: black;border-radius: 0.25em;background-color: #f0f8ff;}#sk-container-id-1 input.sk-toggleable__control:checked~div.sk-toggleable__content {max-height: 200px;max-width: 100%;overflow: auto;}#sk-container-id-1 input.sk-toggleable__control:checked~label.sk-toggleable__label-arrow:before {content: \"▾\";}#sk-container-id-1 div.sk-estimator input.sk-toggleable__control:checked~label.sk-toggleable__label {background-color: #d4ebff;}#sk-container-id-1 div.sk-label input.sk-toggleable__control:checked~label.sk-toggleable__label {background-color: #d4ebff;}#sk-container-id-1 input.sk-hidden--visually {border: 0;clip: rect(1px 1px 1px 1px);clip: rect(1px, 1px, 1px, 1px);height: 1px;margin: -1px;overflow: hidden;padding: 0;position: absolute;width: 1px;}#sk-container-id-1 div.sk-estimator {font-family: monospace;background-color: #f0f8ff;border: 1px dotted black;border-radius: 0.25em;box-sizing: border-box;margin-bottom: 0.5em;}#sk-container-id-1 div.sk-estimator:hover {background-color: #d4ebff;}#sk-container-id-1 div.sk-parallel-item::after {content: \"\";width: 100%;border-bottom: 1px solid gray;flex-grow: 1;}#sk-container-id-1 div.sk-label:hover label.sk-toggleable__label {background-color: #d4ebff;}#sk-container-id-1 div.sk-serial::before {content: \"\";position: absolute;border-left: 1px solid gray;box-sizing: border-box;top: 0;bottom: 0;left: 50%;z-index: 0;}#sk-container-id-1 div.sk-serial {display: flex;flex-direction: column;align-items: center;background-color: white;padding-right: 0.2em;padding-left: 0.2em;position: relative;}#sk-container-id-1 div.sk-item {position: relative;z-index: 1;}#sk-container-id-1 div.sk-parallel {display: flex;align-items: stretch;justify-content: center;background-color: white;position: relative;}#sk-container-id-1 div.sk-item::before, #sk-container-id-1 div.sk-parallel-item::before {content: \"\";position: absolute;border-left: 1px solid gray;box-sizing: border-box;top: 0;bottom: 0;left: 50%;z-index: -1;}#sk-container-id-1 div.sk-parallel-item {display: flex;flex-direction: column;z-index: 1;position: relative;background-color: white;}#sk-container-id-1 div.sk-parallel-item:first-child::after {align-self: flex-end;width: 50%;}#sk-container-id-1 div.sk-parallel-item:last-child::after {align-self: flex-start;width: 50%;}#sk-container-id-1 div.sk-parallel-item:only-child::after {width: 0;}#sk-container-id-1 div.sk-dashed-wrapped {border: 1px dashed gray;margin: 0 0.4em 0.5em 0.4em;box-sizing: border-box;padding-bottom: 0.4em;background-color: white;}#sk-container-id-1 div.sk-label label {font-family: monospace;font-weight: bold;display: inline-block;line-height: 1.2em;}#sk-container-id-1 div.sk-label-container {text-align: center;}#sk-container-id-1 div.sk-container {/* jupyter's `normalize.less` sets `[hidden] { display: none; }` but bootstrap.min.css set `[hidden] { display: none !important; }` so we also need the `!important` here to be able to override the default hidden behavior on the sphinx rendered scikit-learn.org. See: https://github.com/scikit-learn/scikit-learn/issues/21755 */display: inline-block !important;position: relative;}#sk-container-id-1 div.sk-text-repr-fallback {display: none;}</style><div id=\"sk-container-id-1\" class=\"sk-top-container\"><div class=\"sk-text-repr-fallback\"><pre>RandomForestClassifier(max_depth=20)</pre><b>In a Jupyter environment, please rerun this cell to show the HTML representation or trust the notebook. <br />On GitHub, the HTML representation is unable to render, please try loading this page with nbviewer.org.</b></div><div class=\"sk-container\" hidden><div class=\"sk-item\"><div class=\"sk-estimator sk-toggleable\"><input class=\"sk-toggleable__control sk-hidden--visually\" id=\"sk-estimator-id-1\" type=\"checkbox\" checked><label for=\"sk-estimator-id-1\" class=\"sk-toggleable__label sk-toggleable__label-arrow\">RandomForestClassifier</label><div class=\"sk-toggleable__content\"><pre>RandomForestClassifier(max_depth=20)</pre></div></div></div></div></div>"
      ],
      "text/plain": [
       "RandomForestClassifier(max_depth=20)"
      ]
     },
     "execution_count": 53,
     "metadata": {},
     "output_type": "execute_result"
    }
   ],
   "source": [
    "from sklearn.ensemble import RandomForestClassifier\n",
    "rfc = RandomForestClassifier(n_estimators=100, max_depth=20)\n",
    "rfc.fit(x_train, y_train)"
   ]
  },
  {
   "cell_type": "code",
   "execution_count": 54,
   "id": "1cf00796",
   "metadata": {},
   "outputs": [],
   "source": [
    "from sklearn.metrics import accuracy_score, confusion_matrix, classification_report\n",
    "\n",
    "y_pred_rfc_train = rfc.predict(x_train)\n",
    "y_pred_rfc_test = rfc.predict(x_test)"
   ]
  },
  {
   "cell_type": "code",
   "execution_count": 55,
   "id": "e9f85493",
   "metadata": {},
   "outputs": [
    {
     "name": "stdout",
     "output_type": "stream",
     "text": [
      "confusion_matrix_train : [[4341   10]\n",
      " [  57 2634]]\n",
      "-------------------------------\n",
      "confusion_matrix_test : [[1795  160]\n",
      " [ 436  628]]\n"
     ]
    }
   ],
   "source": [
    "# Confusion Matrix\n",
    "\n",
    "print('confusion_matrix_train :', confusion_matrix(y_train, y_pred_rfc_train))\n",
    "print('-------------------------------')\n",
    "print('confusion_matrix_test :' , confusion_matrix(y_test, y_pred_rfc_test))"
   ]
  },
  {
   "cell_type": "code",
   "execution_count": 56,
   "id": "7ce88266",
   "metadata": {},
   "outputs": [
    {
     "name": "stdout",
     "output_type": "stream",
     "text": [
      "accuracy_score_train:  0.9904856574836695\n",
      "-------------------------------\n",
      "accuracy_score_test:  0.8025836369658828\n"
     ]
    }
   ],
   "source": [
    "# Accuracy Score\n",
    "\n",
    "print('accuracy_score_train: ', accuracy_score(y_train, y_pred_rfc_train))\n",
    "print('-------------------------------')\n",
    "print('accuracy_score_test: ',accuracy_score(y_test,y_pred_rfc_test))"
   ]
  },
  {
   "cell_type": "code",
   "execution_count": 57,
   "id": "2a0959dd",
   "metadata": {},
   "outputs": [
    {
     "name": "stdout",
     "output_type": "stream",
     "text": [
      "classification_report_train:                precision    recall  f1-score   support\n",
      "\n",
      "           0       0.99      1.00      0.99      4351\n",
      "           1       1.00      0.98      0.99      2691\n",
      "\n",
      "    accuracy                           0.99      7042\n",
      "   macro avg       0.99      0.99      0.99      7042\n",
      "weighted avg       0.99      0.99      0.99      7042\n",
      "\n",
      "-------------------------------\n",
      "classification_report_test:                precision    recall  f1-score   support\n",
      "\n",
      "           0       0.80      0.92      0.86      1955\n",
      "           1       0.80      0.59      0.68      1064\n",
      "\n",
      "    accuracy                           0.80      3019\n",
      "   macro avg       0.80      0.75      0.77      3019\n",
      "weighted avg       0.80      0.80      0.79      3019\n",
      "\n"
     ]
    }
   ],
   "source": [
    "#Classsification report\n",
    "\n",
    "print('classification_report_train: ', classification_report(y_train, y_pred_rfc_train))\n",
    "print('-------------------------------')\n",
    "print('classification_report_test: ', classification_report(y_test, y_pred_rfc_test))"
   ]
  },
  {
   "cell_type": "markdown",
   "id": "71c51365",
   "metadata": {},
   "source": [
    "# Naive Bayes"
   ]
  },
  {
   "cell_type": "code",
   "execution_count": 58,
   "id": "bc8829c7",
   "metadata": {},
   "outputs": [
    {
     "data": {
      "text/html": [
       "<style>#sk-container-id-2 {color: black;background-color: white;}#sk-container-id-2 pre{padding: 0;}#sk-container-id-2 div.sk-toggleable {background-color: white;}#sk-container-id-2 label.sk-toggleable__label {cursor: pointer;display: block;width: 100%;margin-bottom: 0;padding: 0.3em;box-sizing: border-box;text-align: center;}#sk-container-id-2 label.sk-toggleable__label-arrow:before {content: \"▸\";float: left;margin-right: 0.25em;color: #696969;}#sk-container-id-2 label.sk-toggleable__label-arrow:hover:before {color: black;}#sk-container-id-2 div.sk-estimator:hover label.sk-toggleable__label-arrow:before {color: black;}#sk-container-id-2 div.sk-toggleable__content {max-height: 0;max-width: 0;overflow: hidden;text-align: left;background-color: #f0f8ff;}#sk-container-id-2 div.sk-toggleable__content pre {margin: 0.2em;color: black;border-radius: 0.25em;background-color: #f0f8ff;}#sk-container-id-2 input.sk-toggleable__control:checked~div.sk-toggleable__content {max-height: 200px;max-width: 100%;overflow: auto;}#sk-container-id-2 input.sk-toggleable__control:checked~label.sk-toggleable__label-arrow:before {content: \"▾\";}#sk-container-id-2 div.sk-estimator input.sk-toggleable__control:checked~label.sk-toggleable__label {background-color: #d4ebff;}#sk-container-id-2 div.sk-label input.sk-toggleable__control:checked~label.sk-toggleable__label {background-color: #d4ebff;}#sk-container-id-2 input.sk-hidden--visually {border: 0;clip: rect(1px 1px 1px 1px);clip: rect(1px, 1px, 1px, 1px);height: 1px;margin: -1px;overflow: hidden;padding: 0;position: absolute;width: 1px;}#sk-container-id-2 div.sk-estimator {font-family: monospace;background-color: #f0f8ff;border: 1px dotted black;border-radius: 0.25em;box-sizing: border-box;margin-bottom: 0.5em;}#sk-container-id-2 div.sk-estimator:hover {background-color: #d4ebff;}#sk-container-id-2 div.sk-parallel-item::after {content: \"\";width: 100%;border-bottom: 1px solid gray;flex-grow: 1;}#sk-container-id-2 div.sk-label:hover label.sk-toggleable__label {background-color: #d4ebff;}#sk-container-id-2 div.sk-serial::before {content: \"\";position: absolute;border-left: 1px solid gray;box-sizing: border-box;top: 0;bottom: 0;left: 50%;z-index: 0;}#sk-container-id-2 div.sk-serial {display: flex;flex-direction: column;align-items: center;background-color: white;padding-right: 0.2em;padding-left: 0.2em;position: relative;}#sk-container-id-2 div.sk-item {position: relative;z-index: 1;}#sk-container-id-2 div.sk-parallel {display: flex;align-items: stretch;justify-content: center;background-color: white;position: relative;}#sk-container-id-2 div.sk-item::before, #sk-container-id-2 div.sk-parallel-item::before {content: \"\";position: absolute;border-left: 1px solid gray;box-sizing: border-box;top: 0;bottom: 0;left: 50%;z-index: -1;}#sk-container-id-2 div.sk-parallel-item {display: flex;flex-direction: column;z-index: 1;position: relative;background-color: white;}#sk-container-id-2 div.sk-parallel-item:first-child::after {align-self: flex-end;width: 50%;}#sk-container-id-2 div.sk-parallel-item:last-child::after {align-self: flex-start;width: 50%;}#sk-container-id-2 div.sk-parallel-item:only-child::after {width: 0;}#sk-container-id-2 div.sk-dashed-wrapped {border: 1px dashed gray;margin: 0 0.4em 0.5em 0.4em;box-sizing: border-box;padding-bottom: 0.4em;background-color: white;}#sk-container-id-2 div.sk-label label {font-family: monospace;font-weight: bold;display: inline-block;line-height: 1.2em;}#sk-container-id-2 div.sk-label-container {text-align: center;}#sk-container-id-2 div.sk-container {/* jupyter's `normalize.less` sets `[hidden] { display: none; }` but bootstrap.min.css set `[hidden] { display: none !important; }` so we also need the `!important` here to be able to override the default hidden behavior on the sphinx rendered scikit-learn.org. See: https://github.com/scikit-learn/scikit-learn/issues/21755 */display: inline-block !important;position: relative;}#sk-container-id-2 div.sk-text-repr-fallback {display: none;}</style><div id=\"sk-container-id-2\" class=\"sk-top-container\"><div class=\"sk-text-repr-fallback\"><pre>GaussianNB()</pre><b>In a Jupyter environment, please rerun this cell to show the HTML representation or trust the notebook. <br />On GitHub, the HTML representation is unable to render, please try loading this page with nbviewer.org.</b></div><div class=\"sk-container\" hidden><div class=\"sk-item\"><div class=\"sk-estimator sk-toggleable\"><input class=\"sk-toggleable__control sk-hidden--visually\" id=\"sk-estimator-id-2\" type=\"checkbox\" checked><label for=\"sk-estimator-id-2\" class=\"sk-toggleable__label sk-toggleable__label-arrow\">GaussianNB</label><div class=\"sk-toggleable__content\"><pre>GaussianNB()</pre></div></div></div></div></div>"
      ],
      "text/plain": [
       "GaussianNB()"
      ]
     },
     "execution_count": 58,
     "metadata": {},
     "output_type": "execute_result"
    }
   ],
   "source": [
    "from sklearn.naive_bayes import GaussianNB\n",
    "gnb = GaussianNB()\n",
    "gnb.fit(x_train, y_train)"
   ]
  },
  {
   "cell_type": "code",
   "execution_count": 59,
   "id": "05a300e0",
   "metadata": {},
   "outputs": [],
   "source": [
    "y_pred_gnb_train = gnb.predict(x_train)\n",
    "y_pred_gnb_test = gnb.predict(x_test)"
   ]
  },
  {
   "cell_type": "code",
   "execution_count": 60,
   "id": "5388aea6",
   "metadata": {},
   "outputs": [
    {
     "name": "stdout",
     "output_type": "stream",
     "text": [
      "confusion_matrix_train : [[4273   78]\n",
      " [2616   75]]\n",
      "-------------------------------\n",
      "confusion_matrix_test : [[1929   26]\n",
      " [1032   32]]\n"
     ]
    }
   ],
   "source": [
    "# Confusion Matrix\n",
    "\n",
    "print('confusion_matrix_train :', confusion_matrix(y_train, y_pred_gnb_train))\n",
    "print('-------------------------------')\n",
    "print('confusion_matrix_test :' , confusion_matrix(y_test, y_pred_gnb_test))"
   ]
  },
  {
   "cell_type": "code",
   "execution_count": 61,
   "id": "151fecf4",
   "metadata": {},
   "outputs": [
    {
     "name": "stdout",
     "output_type": "stream",
     "text": [
      "accuracy_score_train:  0.6174382277761999\n",
      "-------------------------------\n",
      "accuracy_score_test:  0.6495528320635973\n"
     ]
    }
   ],
   "source": [
    "# Accuracy Score\n",
    "\n",
    "print('accuracy_score_train: ', accuracy_score(y_train, y_pred_gnb_train))\n",
    "print('-------------------------------')\n",
    "print('accuracy_score_test: ',accuracy_score(y_test,y_pred_gnb_test))"
   ]
  },
  {
   "cell_type": "code",
   "execution_count": 62,
   "id": "6c9eae4a",
   "metadata": {
    "scrolled": true
   },
   "outputs": [
    {
     "name": "stdout",
     "output_type": "stream",
     "text": [
      "classification_report_train:                precision    recall  f1-score   support\n",
      "\n",
      "           0       0.62      0.98      0.76      4351\n",
      "           1       0.49      0.03      0.05      2691\n",
      "\n",
      "    accuracy                           0.62      7042\n",
      "   macro avg       0.56      0.50      0.41      7042\n",
      "weighted avg       0.57      0.62      0.49      7042\n",
      "\n",
      "-------------------------------\n",
      "classification_report_test:                precision    recall  f1-score   support\n",
      "\n",
      "           0       0.65      0.99      0.78      1955\n",
      "           1       0.55      0.03      0.06      1064\n",
      "\n",
      "    accuracy                           0.65      3019\n",
      "   macro avg       0.60      0.51      0.42      3019\n",
      "weighted avg       0.62      0.65      0.53      3019\n",
      "\n"
     ]
    }
   ],
   "source": [
    "#Classsification report\n",
    "\n",
    "print('classification_report_train: ', classification_report(y_train, y_pred_gnb_train))\n",
    "print('-------------------------------')\n",
    "print('classification_report_test: ', classification_report(y_test, y_pred_gnb_test))"
   ]
  },
  {
   "cell_type": "markdown",
   "id": "3ad777f7",
   "metadata": {},
   "source": [
    "# KNN "
   ]
  },
  {
   "cell_type": "code",
   "execution_count": 63,
   "id": "dd6a9d6b",
   "metadata": {},
   "outputs": [
    {
     "data": {
      "text/html": [
       "<style>#sk-container-id-3 {color: black;background-color: white;}#sk-container-id-3 pre{padding: 0;}#sk-container-id-3 div.sk-toggleable {background-color: white;}#sk-container-id-3 label.sk-toggleable__label {cursor: pointer;display: block;width: 100%;margin-bottom: 0;padding: 0.3em;box-sizing: border-box;text-align: center;}#sk-container-id-3 label.sk-toggleable__label-arrow:before {content: \"▸\";float: left;margin-right: 0.25em;color: #696969;}#sk-container-id-3 label.sk-toggleable__label-arrow:hover:before {color: black;}#sk-container-id-3 div.sk-estimator:hover label.sk-toggleable__label-arrow:before {color: black;}#sk-container-id-3 div.sk-toggleable__content {max-height: 0;max-width: 0;overflow: hidden;text-align: left;background-color: #f0f8ff;}#sk-container-id-3 div.sk-toggleable__content pre {margin: 0.2em;color: black;border-radius: 0.25em;background-color: #f0f8ff;}#sk-container-id-3 input.sk-toggleable__control:checked~div.sk-toggleable__content {max-height: 200px;max-width: 100%;overflow: auto;}#sk-container-id-3 input.sk-toggleable__control:checked~label.sk-toggleable__label-arrow:before {content: \"▾\";}#sk-container-id-3 div.sk-estimator input.sk-toggleable__control:checked~label.sk-toggleable__label {background-color: #d4ebff;}#sk-container-id-3 div.sk-label input.sk-toggleable__control:checked~label.sk-toggleable__label {background-color: #d4ebff;}#sk-container-id-3 input.sk-hidden--visually {border: 0;clip: rect(1px 1px 1px 1px);clip: rect(1px, 1px, 1px, 1px);height: 1px;margin: -1px;overflow: hidden;padding: 0;position: absolute;width: 1px;}#sk-container-id-3 div.sk-estimator {font-family: monospace;background-color: #f0f8ff;border: 1px dotted black;border-radius: 0.25em;box-sizing: border-box;margin-bottom: 0.5em;}#sk-container-id-3 div.sk-estimator:hover {background-color: #d4ebff;}#sk-container-id-3 div.sk-parallel-item::after {content: \"\";width: 100%;border-bottom: 1px solid gray;flex-grow: 1;}#sk-container-id-3 div.sk-label:hover label.sk-toggleable__label {background-color: #d4ebff;}#sk-container-id-3 div.sk-serial::before {content: \"\";position: absolute;border-left: 1px solid gray;box-sizing: border-box;top: 0;bottom: 0;left: 50%;z-index: 0;}#sk-container-id-3 div.sk-serial {display: flex;flex-direction: column;align-items: center;background-color: white;padding-right: 0.2em;padding-left: 0.2em;position: relative;}#sk-container-id-3 div.sk-item {position: relative;z-index: 1;}#sk-container-id-3 div.sk-parallel {display: flex;align-items: stretch;justify-content: center;background-color: white;position: relative;}#sk-container-id-3 div.sk-item::before, #sk-container-id-3 div.sk-parallel-item::before {content: \"\";position: absolute;border-left: 1px solid gray;box-sizing: border-box;top: 0;bottom: 0;left: 50%;z-index: -1;}#sk-container-id-3 div.sk-parallel-item {display: flex;flex-direction: column;z-index: 1;position: relative;background-color: white;}#sk-container-id-3 div.sk-parallel-item:first-child::after {align-self: flex-end;width: 50%;}#sk-container-id-3 div.sk-parallel-item:last-child::after {align-self: flex-start;width: 50%;}#sk-container-id-3 div.sk-parallel-item:only-child::after {width: 0;}#sk-container-id-3 div.sk-dashed-wrapped {border: 1px dashed gray;margin: 0 0.4em 0.5em 0.4em;box-sizing: border-box;padding-bottom: 0.4em;background-color: white;}#sk-container-id-3 div.sk-label label {font-family: monospace;font-weight: bold;display: inline-block;line-height: 1.2em;}#sk-container-id-3 div.sk-label-container {text-align: center;}#sk-container-id-3 div.sk-container {/* jupyter's `normalize.less` sets `[hidden] { display: none; }` but bootstrap.min.css set `[hidden] { display: none !important; }` so we also need the `!important` here to be able to override the default hidden behavior on the sphinx rendered scikit-learn.org. See: https://github.com/scikit-learn/scikit-learn/issues/21755 */display: inline-block !important;position: relative;}#sk-container-id-3 div.sk-text-repr-fallback {display: none;}</style><div id=\"sk-container-id-3\" class=\"sk-top-container\"><div class=\"sk-text-repr-fallback\"><pre>KNeighborsClassifier(n_neighbors=7)</pre><b>In a Jupyter environment, please rerun this cell to show the HTML representation or trust the notebook. <br />On GitHub, the HTML representation is unable to render, please try loading this page with nbviewer.org.</b></div><div class=\"sk-container\" hidden><div class=\"sk-item\"><div class=\"sk-estimator sk-toggleable\"><input class=\"sk-toggleable__control sk-hidden--visually\" id=\"sk-estimator-id-3\" type=\"checkbox\" checked><label for=\"sk-estimator-id-3\" class=\"sk-toggleable__label sk-toggleable__label-arrow\">KNeighborsClassifier</label><div class=\"sk-toggleable__content\"><pre>KNeighborsClassifier(n_neighbors=7)</pre></div></div></div></div></div>"
      ],
      "text/plain": [
       "KNeighborsClassifier(n_neighbors=7)"
      ]
     },
     "execution_count": 63,
     "metadata": {},
     "output_type": "execute_result"
    }
   ],
   "source": [
    "from sklearn.neighbors import KNeighborsClassifier\n",
    "knn = KNeighborsClassifier(n_neighbors=7)\n",
    "knn.fit(x_train, y_train)"
   ]
  },
  {
   "cell_type": "code",
   "execution_count": 64,
   "id": "845e84cb",
   "metadata": {},
   "outputs": [],
   "source": [
    "y_pred_knn_train = gnb.predict(x_train)\n",
    "y_pred_knn_test = gnb.predict(x_test)"
   ]
  },
  {
   "cell_type": "code",
   "execution_count": 65,
   "id": "0106e583",
   "metadata": {},
   "outputs": [
    {
     "name": "stdout",
     "output_type": "stream",
     "text": [
      "confusion_matrix_train : [[4273   78]\n",
      " [2616   75]]\n",
      "-------------------------------\n",
      "confusion_matrix_test : [[1929   26]\n",
      " [1032   32]]\n"
     ]
    }
   ],
   "source": [
    "# Confusion Matrix\n",
    "\n",
    "print('confusion_matrix_train :', confusion_matrix(y_train, y_pred_knn_train))\n",
    "print('-------------------------------')\n",
    "print('confusion_matrix_test :' , confusion_matrix(y_test, y_pred_knn_test))"
   ]
  },
  {
   "cell_type": "code",
   "execution_count": 66,
   "id": "b2c2df24",
   "metadata": {},
   "outputs": [
    {
     "name": "stdout",
     "output_type": "stream",
     "text": [
      "accuracy_score_train:  0.6174382277761999\n",
      "-------------------------------\n",
      "accuracy_score_test:  0.6495528320635973\n"
     ]
    }
   ],
   "source": [
    "# Accuracy Score\n",
    "\n",
    "print('accuracy_score_train: ', accuracy_score(y_train, y_pred_knn_train))\n",
    "print('-------------------------------')\n",
    "print('accuracy_score_test: ',accuracy_score(y_test,y_pred_knn_test))"
   ]
  },
  {
   "cell_type": "markdown",
   "id": "558c67a2",
   "metadata": {},
   "source": [
    "\n",
    "## Since RandomForestClassifer is giving us the Best results, we will go with it to find the Top- 5 Head-Bid Manager Combination to optimize the win rate, helping the company prioritize efforts and allocate resources effectively to meet growth targets."
   ]
  },
  {
   "cell_type": "code",
   "execution_count": 67,
   "id": "0a8169e0",
   "metadata": {},
   "outputs": [],
   "source": [
    "y_pred_proba = rfc.predict_proba(x_test)[:, 1]"
   ]
  },
  {
   "cell_type": "code",
   "execution_count": 68,
   "id": "54b4fe98",
   "metadata": {},
   "outputs": [
    {
     "data": {
      "text/plain": [
       "array([0.5838801 , 0.508     , 0.22      , ..., 0.24505703, 0.18393226,\n",
       "       0.23893669])"
      ]
     },
     "execution_count": 68,
     "metadata": {},
     "output_type": "execute_result"
    }
   ],
   "source": [
    "y_pred_proba"
   ]
  },
  {
   "cell_type": "code",
   "execution_count": 75,
   "id": "5e0126d3",
   "metadata": {},
   "outputs": [
    {
     "name": "stdout",
     "output_type": "stream",
     "text": [
      "Top-5 Head-Bid Manager combinations: \n",
      "             VP Name      Manager Name  Win Probability\n",
      "119     Ekta Zutshi  Leeladhar Pandey         0.960000\n",
      "417    Rahul Bajpai    Royal Garofalo         0.926769\n",
      "246  Long Bergstrom      Naveen Dogra         0.924889\n",
      "659        som dutt     Roop Sachdeva         0.907500\n",
      "4         Alam Syed    Genny Mcgivney         0.900000\n"
     ]
    }
   ],
   "source": [
    "X_test_df = pd.DataFrame(x_test_unscaled, columns=newdata.drop(['Deal Status Code'], axis=1).columns)\n",
    "X_test_df['Win Probability'] = y_pred_proba\n",
    "X_test_df['Actual Outcome'] = y_test.values\n",
    "\n",
    "top_combinations = X_test_df.groupby(['VP Name', 'Manager Name'])['Win Probability'].mean().reset_index()\n",
    "top_5_combinations = top_combinations.sort_values(by='Win Probability', ascending=False).head(5)\n",
    "\n",
    "print('Top-5 Head-Bid Manager combinations:', '\\n', top_5_combinations)"
   ]
  },
  {
   "cell_type": "code",
   "execution_count": null,
   "id": "53b8fb92",
   "metadata": {},
   "outputs": [],
   "source": []
  }
 ],
 "metadata": {
  "kernelspec": {
   "display_name": "Python 3",
   "language": "python",
   "name": "python3"
  },
  "language_info": {
   "codemirror_mode": {
    "name": "ipython",
    "version": 3
   },
   "file_extension": ".py",
   "mimetype": "text/x-python",
   "name": "python",
   "nbconvert_exporter": "python",
   "pygments_lexer": "ipython3",
   "version": "3.8.8"
  }
 },
 "nbformat": 4,
 "nbformat_minor": 5
}
